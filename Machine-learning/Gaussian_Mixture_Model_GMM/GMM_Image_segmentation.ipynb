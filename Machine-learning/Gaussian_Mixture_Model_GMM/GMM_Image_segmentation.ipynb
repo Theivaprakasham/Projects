{
 "cells": [
  {
   "cell_type": "markdown",
   "metadata": {
    "id": "Q13VjntcRz9U"
   },
   "source": [
    "**Assignment 7**\n",
    "Demonstrate  the mean  adapted  GMM for  an arbitrary  set  of  data\n",
    "Find the % of  unadapted  Gaussians in the  class  dependent  model  compared  with the  class independent  UBM \n"
   ]
  },
  {
   "cell_type": "code",
   "execution_count": 1,
   "metadata": {
    "id": "ND0XBMfuR03l"
   },
   "outputs": [],
   "source": [
    "#Import recommonended libraries\n",
    "import numpy as np\n",
    "from sklearn.mixture import GaussianMixture as GMM\n",
    "import copy\n",
    "\n",
    "#Uncomment this if you want to display your [graphs] within the notebook in a proper format.\n",
    "%matplotlib inline\n",
    "#Uncomment this if you want to display your graphs in backend\n",
    "\n",
    "\n",
    "import matplotlib.pyplot as plt \n",
    "from mpl_toolkits.mplot3d import Axes3D \n",
    "import numpy as np\n",
    "from numpy.random import randn\n",
    "import glob\n",
    "import sys\n",
    "\n",
    "import warnings\n",
    "warnings.filterwarnings('ignore')\n",
    "np.random.seed(42)"
   ]
  },
  {
   "cell_type": "code",
   "execution_count": null,
   "metadata": {},
   "outputs": [],
   "source": [
    "from GMM import GMM"
   ]
  },
  {
   "cell_type": "code",
   "execution_count": 2,
   "metadata": {
    "id": "9q_9yu2pzgFz"
   },
   "outputs": [],
   "source": [
    "\n",
    "class opt:\n",
    "    def normalize_meanvector(weight, var, mean_vec):\n",
    "        normalize_mean = np.zeros(np.shape(mean_vec), dtype=np.float32)\n",
    "        [NUMBER_OF_GAUSSIAN, FEATURE_ORDER] = np.shape(mean_vec)\n",
    "        for ii in range(0, NUMBER_OF_GAUSSIAN):\n",
    "            normalize_mean[ii, :] = np.sqrt(weight[ii]) * \\\n",
    "                            (1 / np.sqrt(var[ii, :])) * mean_vec[ii, :]\n",
    "        return normalize_mean"
   ]
  },
  {
   "cell_type": "code",
   "execution_count": 3,
   "metadata": {
    "colab": {
     "base_uri": "https://localhost:8080/",
     "height": 553
    },
    "id": "WsO1UlHizlHO",
    "outputId": "e897cf4e-a20d-4169-e72d-d5e49da46337"
   },
   "outputs": [
    {
     "name": "stdout",
     "output_type": "stream",
     "text": [
      "Sample1 shape (500, 2)\n",
      "Sample2 shape (500, 2)\n"
     ]
    },
    {
     "data": {
      "image/png": "[encoded data removed]",
      "text/plain": [
       "<Figure size 432x288 with 1 Axes>"
      ]
     },
     "metadata": {
      "needs_background": "light"
     },
     "output_type": "display_data"
    },
    {
     "data": {
      "image/png": "[encoded data removed]",
      "text/plain": [
       "<Figure size 432x288 with 1 Axes>"
      ]
     },
     "metadata": {
      "needs_background": "light"
     },
     "output_type": "display_data"
    }
   ],
   "source": [
    "# ===========================\n",
    "# parameters    \n",
    "# ===========================\n",
    "NUMBER_OF_SAMPLE = 500\n",
    "FEATURE_ORDER = 2\n",
    "NUMBER_OF_GAUSSIAN = 4\n",
    "RAND_VAL = 5\n",
    "RAND_MEAN = 2\n",
    "SCALING_FACTOR = 0.01\n",
    "\n",
    "\n",
    "\n",
    "#Synthetic Data Generation first method\n",
    "\n",
    "K=4 # Step1:Choose the Number of clusters\n",
    "\n",
    "from sklearn.datasets.samples_generator import make_blobs\n",
    "Data, y_true = make_blobs(n_samples=NUMBER_OF_SAMPLE, n_features=FEATURE_ORDER, centers=NUMBER_OF_GAUSSIAN,\n",
    "                       cluster_std=0.4, random_state=20)\n",
    "\n",
    "\n",
    "\n",
    "\n",
    "# generating Data samples\n",
    "sample1 = Data\n",
    "sample2 = Data * RAND_VAL + RAND_MEAN\n",
    "\n",
    "\n",
    "print(\"Sample1 shape\", sample1.shape)\n",
    "print(\"Sample2 shape\", sample2.shape)\n",
    "\n",
    "#Plot 2D\n",
    "plt.scatter(sample1[:, 0], sample1[:, 1], s=5)\n",
    "plt.show()\n",
    "\n",
    "plt.scatter(sample2[:, 0], sample2[:, 1], s=5)\n",
    "plt.show()"
   ]
  },
  {
   "cell_type": "code",
   "execution_count": 4,
   "metadata": {
    "id": "VC8SbeoKz7mW"
   },
   "outputs": [
    {
     "ename": "TypeError",
     "evalue": "__init__() got an unexpected keyword argument 'k'",
     "output_type": "error",
     "traceback": [
      "\u001b[1;31m---------------------------------------------------------------------------\u001b[0m",
      "\u001b[1;31mTypeError\u001b[0m                                 Traceback (most recent call last)",
      "\u001b[1;32m<ipython-input-4-d1f833b81c36>\u001b[0m in \u001b[0;36m<module>\u001b[1;34m\u001b[0m\n\u001b[0;32m      2\u001b[0m \u001b[1;31m#GMM_train_by_sample1 = GMM(, )\u001b[0m\u001b[1;33m\u001b[0m\u001b[1;33m\u001b[0m\u001b[1;33m\u001b[0m\u001b[0m\n\u001b[0;32m      3\u001b[0m \u001b[1;33m\u001b[0m\u001b[0m\n\u001b[1;32m----> 4\u001b[1;33m \u001b[0mgmm_ubm\u001b[0m \u001b[1;33m=\u001b[0m \u001b[0mGMM\u001b[0m\u001b[1;33m(\u001b[0m\u001b[0mk\u001b[0m\u001b[1;33m=\u001b[0m\u001b[0mNUMBER_OF_GAUSSIAN\u001b[0m\u001b[1;33m,\u001b[0m \u001b[0mmax_iter\u001b[0m\u001b[1;33m=\u001b[0m\u001b[1;36m50\u001b[0m\u001b[1;33m)\u001b[0m\u001b[1;33m\u001b[0m\u001b[1;33m\u001b[0m\u001b[0m\n\u001b[0m\u001b[0;32m      5\u001b[0m \u001b[0mgmm_ubm\u001b[0m\u001b[1;33m.\u001b[0m\u001b[0mfit\u001b[0m\u001b[1;33m(\u001b[0m\u001b[0msample1\u001b[0m\u001b[1;33m)\u001b[0m\u001b[1;33m\u001b[0m\u001b[1;33m\u001b[0m\u001b[0m\n",
      "\u001b[1;32m~\\AppData\\Roaming\\Python\\Python38\\site-packages\\sklearn\\utils\\validation.py\u001b[0m in \u001b[0;36minner_f\u001b[1;34m(*args, **kwargs)\u001b[0m\n\u001b[0;32m     70\u001b[0m                           FutureWarning)\n\u001b[0;32m     71\u001b[0m         \u001b[0mkwargs\u001b[0m\u001b[1;33m.\u001b[0m\u001b[0mupdate\u001b[0m\u001b[1;33m(\u001b[0m\u001b[1;33m{\u001b[0m\u001b[0mk\u001b[0m\u001b[1;33m:\u001b[0m \u001b[0marg\u001b[0m \u001b[1;32mfor\u001b[0m \u001b[0mk\u001b[0m\u001b[1;33m,\u001b[0m \u001b[0marg\u001b[0m \u001b[1;32min\u001b[0m \u001b[0mzip\u001b[0m\u001b[1;33m(\u001b[0m\u001b[0msig\u001b[0m\u001b[1;33m.\u001b[0m\u001b[0mparameters\u001b[0m\u001b[1;33m,\u001b[0m \u001b[0margs\u001b[0m\u001b[1;33m)\u001b[0m\u001b[1;33m}\u001b[0m\u001b[1;33m)\u001b[0m\u001b[1;33m\u001b[0m\u001b[1;33m\u001b[0m\u001b[0m\n\u001b[1;32m---> 72\u001b[1;33m         \u001b[1;32mreturn\u001b[0m \u001b[0mf\u001b[0m\u001b[1;33m(\u001b[0m\u001b[1;33m**\u001b[0m\u001b[0mkwargs\u001b[0m\u001b[1;33m)\u001b[0m\u001b[1;33m\u001b[0m\u001b[1;33m\u001b[0m\u001b[0m\n\u001b[0m\u001b[0;32m     73\u001b[0m     \u001b[1;32mreturn\u001b[0m \u001b[0minner_f\u001b[0m\u001b[1;33m\u001b[0m\u001b[1;33m\u001b[0m\u001b[0m\n\u001b[0;32m     74\u001b[0m \u001b[1;33m\u001b[0m\u001b[0m\n",
      "\u001b[1;31mTypeError\u001b[0m: __init__() got an unexpected keyword argument 'k'"
     ]
    }
   ],
   "source": [
    "# training init GMM to create UBM\n",
    "#GMM_train_by_sample1 = GMM(, )\n",
    "\n",
    "gmm_ubm = GMM(k=NUMBER_OF_GAUSSIAN, max_iter=50)\n",
    "gmm_ubm.fit(sample1)"
   ]
  },
  {
   "cell_type": "code",
   "execution_count": null,
   "metadata": {},
   "outputs": [],
   "source": [
    "gmm_ubm.weights.shape"
   ]
  },
  {
   "cell_type": "code",
   "execution_count": null,
   "metadata": {},
   "outputs": [],
   "source": [
    "probability = gmm_ubm.predict_proba(sample2);probability"
   ]
  },
  {
   "cell_type": "markdown",
   "metadata": {
    "id": "HnY241eJFjrr"
   },
   "source": [
    "##Posterior Probability of Noisy Dataset :![image.png](data:image/png;base64,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)"
   ]
  },
  {
   "cell_type": "code",
   "execution_count": null,
   "metadata": {
    "colab": {
     "base_uri": "https://localhost:8080/"
    },
    "id": "xFBnCVMpSHyS",
    "outputId": "e28cef4a-3d25-4a39-9382-78c2a1a9e799"
   },
   "outputs": [],
   "source": [
    "# Posterior probabilities for K NUMBER_OF_GAUSSIAN\n",
    "probability = gmm_ubm.predict_proba(sample2)\n",
    "print(probability.shape)"
   ]
  },
  {
   "cell_type": "code",
   "execution_count": null,
   "metadata": {},
   "outputs": [],
   "source": [
    "probability"
   ]
  },
  {
   "cell_type": "markdown",
   "metadata": {
    "id": "SOXy55uaGDyS"
   },
   "source": [
    "ni: ![image.png](data:image/png;base64,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)"
   ]
  },
  {
   "cell_type": "code",
   "execution_count": null,
   "metadata": {
    "colab": {
     "base_uri": "https://localhost:8080/"
    },
    "id": "sm3D_YviSS7y",
    "outputId": "8c96bd5d-4224-41f1-8864-2c20a5800f53"
   },
   "outputs": [],
   "source": [
    "#N summation for K NUMBER_OF_GAUSSIAN\n",
    "n_i = np.sum(probability, axis=0)\n",
    "print(n_i)"
   ]
  },
  {
   "cell_type": "markdown",
   "metadata": {
    "id": "7Tbc_OIRGiUO"
   },
   "source": [
    "Mean of Posterior Probaility on Noisy Image: ![image.png](data:image/png;base64,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)"
   ]
  },
  {
   "cell_type": "code",
   "execution_count": null,
   "metadata": {
    "colab": {
     "base_uri": "https://localhost:8080/"
    },
    "id": "uNQ_7g9Uz7xu",
    "outputId": "b795129c-fad3-4da9-f02e-cc0d843f4309"
   },
   "outputs": [],
   "source": [
    "\n",
    "E = np.zeros((FEATURE_ORDER, NUMBER_OF_GAUSSIAN), dtype=np.float32)\n",
    "print('Size of E', E.shape)\n",
    "\n",
    "for ii in range(0, NUMBER_OF_GAUSSIAN):\n",
    "    probability_gauss = np.tile(probability[:, ii],(FEATURE_ORDER, 1)).T * sample2\n",
    "    E[:, ii] = np.sum(probability_gauss, axis=0) / n_i[ii]\n",
    "\n",
    "print('probability_gauss: ', probability_gauss.shape)\n",
    "print('Size of E', E.shape)"
   ]
  },
  {
   "cell_type": "markdown",
   "metadata": {
    "id": "RjWogIAtG-wj"
   },
   "source": [
    "Data dependent adaptation coefficient: ![image.png](data:image/png;base64,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)"
   ]
  },
  {
   "cell_type": "code",
   "execution_count": null,
   "metadata": {
    "colab": {
     "base_uri": "https://localhost:8080/"
    },
    "id": "x-Wv0PSISdcO",
    "outputId": "f80c027a-e853-490f-b17b-172a102ab486"
   },
   "outputs": [],
   "source": [
    "alpha = n_i / (n_i + SCALING_FACTOR)\n",
    "print('alpha: ', alpha)"
   ]
  },
  {
   "cell_type": "code",
   "execution_count": null,
   "metadata": {
    "colab": {
     "base_uri": "https://localhost:8080/"
    },
    "id": "rzMHZWQgz7vf",
    "outputId": "bc6e1625-f59b-4874-e735-e172e703f931"
   },
   "outputs": [],
   "source": [
    "old_mean = copy.deepcopy(np.vstack(gmm_ubm.mu))\n",
    "print('old_mean: ', old_mean )\n",
    "new_mean = np.zeros((NUMBER_OF_GAUSSIAN, FEATURE_ORDER), dtype=np.float32)\n",
    "print('new mean: ', new_mean )"
   ]
  },
  {
   "cell_type": "markdown",
   "metadata": {
    "id": "SXZ7jOW7Hp9p"
   },
   "source": [
    "Sufficient statistics Mean Updation: ![image.png](data:image/png;base64,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)"
   ]
  },
  {
   "cell_type": "code",
   "execution_count": null,
   "metadata": {},
   "outputs": [],
   "source": [
    "np.vstack(gmm_ubm.mu)"
   ]
  },
  {
   "cell_type": "code",
   "execution_count": null,
   "metadata": {
    "colab": {
     "base_uri": "https://localhost:8080/"
    },
    "id": "6y5kTYLF3tw2",
    "outputId": "e749126f-7038-4b0f-934e-483708c738c1"
   },
   "outputs": [],
   "source": [
    "# (12)\n",
    "for ii in range(0, NUMBER_OF_GAUSSIAN):\n",
    "    new_mean[ii,:] = (alpha[ii] * E[:,ii]) + ((1 - alpha[ii]) * old_mean[ii, :])\n",
    "print('new mean: ', new_mean )"
   ]
  },
  {
   "cell_type": "code",
   "execution_count": null,
   "metadata": {
    "colab": {
     "base_uri": "https://localhost:8080/"
    },
    "id": "9dTX1ucX3t3R",
    "outputId": "4d63e839-193a-4501-81fb-7689c80564c4"
   },
   "outputs": [],
   "source": [
    "# normalize\n",
    "weight = gmm_ubm.weights\n",
    "var = gmm_ubm.sigma\n",
    "print('weight: ', weight )\n",
    "print('var: ', np.vstack(var))"
   ]
  },
  {
   "cell_type": "code",
   "execution_count": null,
   "metadata": {
    "colab": {
     "base_uri": "https://localhost:8080/"
    },
    "id": "qjO68bAz3t0j",
    "outputId": "fb986512-b96d-4d00-d8b4-7f06a08a8f62"
   },
   "outputs": [],
   "source": [
    "# get GMM supervector\n",
    "norm_mean = opt.normalize_meanvector(weight, var, new_mean)\n",
    "super_vector = np.reshape(norm_mean, NUMBER_OF_GAUSSIAN * FEATURE_ORDER)\n",
    "print('norm_mean: ', norm_mean )\n",
    "print('super_vector: ', super_vector )\n",
    "\n",
    "\n",
    "\n",
    "norm_mean_old = opt.normalize_meanvector(weight, var,old_mean)\n",
    "super_vector_old = np.reshape(norm_mean_old, NUMBER_OF_GAUSSIAN * FEATURE_ORDER)\n",
    "print('norm_mean_old: ', norm_mean_old )\n",
    "print('super_vector_old: ', super_vector_old )"
   ]
  },
  {
   "cell_type": "code",
   "execution_count": null,
   "metadata": {
    "colab": {
     "base_uri": "https://localhost:8080/",
     "height": 284
    },
    "id": "2tfLhA9ez7tR",
    "outputId": "d87d1d87-60ce-4b75-a482-a244a85c1713"
   },
   "outputs": [],
   "source": [
    "plt.figure()\n",
    "plt.plot(super_vector / np.sum(np.abs(super_vector)))\n",
    "plt.plot(super_vector_old / np.sum(np.abs(super_vector_old)), 'r')\n",
    "plt.legend(['adapted GMM supervector', 'original supervector'])"
   ]
  },
  {
   "cell_type": "code",
   "execution_count": null,
   "metadata": {
    "colab": {
     "base_uri": "https://localhost:8080/",
     "height": 339
    },
    "id": "FHfGrTjvz7rb",
    "outputId": "a724d964-20ef-4559-c0b4-691fa9cbd627"
   },
   "outputs": [],
   "source": [
    "# ===========================\n",
    "#Verification\n",
    "# ===========================\n",
    "sample2_many = sample2\n",
    "\n",
    "\n",
    "testGMM_many = GMM(k=NUMBER_OF_GAUSSIAN, max_iter=50)\n",
    "testGMM_many.fit(sample2_many)\n",
    "\n",
    "\n",
    "testGMM_many_mean = np.vstack(testGMM_many.mu)\n",
    "print('testGMM_many_mean', testGMM_many_mean)\n",
    "\n",
    "plt.figure()\n",
    "plt.plot(old_mean[:, 0], old_mean[:, 1], 'bo')\n",
    "plt.plot(new_mean[:, 0], new_mean[:, 1], 'ro')\n",
    "plt.plot(testGMM_many_mean[:, 0], testGMM_many_mean[:, 1], 'ko')\n",
    "plt.legend(['before adapted ', 'after adapted', 'true'])\n",
    "plt.grid(True)\n",
    "plt.show()"
   ]
  }
 ],
 "metadata": {
  "colab": {
   "collapsed_sections": [],
   "name": "Assignment 7.ipynb",
   "provenance": []
  },
  "kernelspec": {
   "display_name": "Python 3",
   "language": "python",
   "name": "python3"
  },
  "language_info": {
   "codemirror_mode": {
    "name": "ipython",
    "version": 3
   },
   "file_extension": ".py",
   "mimetype": "text/x-python",
   "name": "python",
   "nbconvert_exporter": "python",
   "pygments_lexer": "ipython3",
   "version": "3.8.6rc1"
  }
 },
 "nbformat": 4,
 "nbformat_minor": 1
}
